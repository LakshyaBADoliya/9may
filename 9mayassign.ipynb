{
 "cells": [
  {
   "cell_type": "code",
   "execution_count": 1,
   "id": "e0472f37-703a-426e-9ec3-a07ca954056f",
   "metadata": {},
   "outputs": [
    {
     "name": "stdin",
     "output_type": "stream",
     "text": [
      "Enter the first number:  9\n",
      "Enter the second number:  8\n",
      "Enter the third number:  7\n"
     ]
    },
    {
     "name": "stdout",
     "output_type": "stream",
     "text": [
      "The minimum number is: 7.0\n"
     ]
    }
   ],
   "source": [
    "num1 = float(input(\"Enter the first number: \"))\n",
    "num2 = float(input(\"Enter the second number: \"))\n",
    "num3 = float(input(\"Enter the third number: \"))\n",
    "\n",
    "if num1 <= num2 and num1 <= num3:\n",
    "    minimum = num1\n",
    "elif num2 <= num1 and num2 <= num3:\n",
    "    minimum = num2\n",
    "else:\n",
    "    minimum = num3\n",
    "\n",
    "print(\"The minimum number is:\", minimum)\n",
    "\n",
    "\n"
   ]
  },
  {
   "cell_type": "code",
   "execution_count": 2,
   "id": "bfd93f7d-216d-47b9-b1a4-dd1f4109cb11",
   "metadata": {},
   "outputs": [
    {
     "name": "stdin",
     "output_type": "stream",
     "text": [
      "Enter the number:  90\n"
     ]
    },
    {
     "name": "stdout",
     "output_type": "stream",
     "text": [
      "Excellent\n"
     ]
    }
   ],
   "source": [
    "number = float(input(\"Enter the number: \"))\n",
    "\n",
    "if number > 95:\n",
    "    print(\"Brilliant\")\n",
    "elif number > 85:\n",
    "    print(\"Excellent\")\n",
    "elif number > 75:\n",
    "    print(\"Good\")\n",
    "elif number > 60:\n",
    "    print(\"Average\")\n",
    "else:\n",
    "    print(\"FAIL\")"
   ]
  },
  {
   "cell_type": "code",
   "execution_count": 3,
   "id": "3107e662-d44e-4cda-b1ed-ef399492e2dd",
   "metadata": {},
   "outputs": [
    {
     "name": "stdin",
     "output_type": "stream",
     "text": [
      "Enter the number of units:  45\n"
     ]
    },
    {
     "name": "stdout",
     "output_type": "stream",
     "text": [
      "Total amount: 1025 rs\n"
     ]
    }
   ],
   "source": [
    "units = int(input(\"Enter the number of units: \"))\n",
    "rate1 = 50  # for the first 10 units\n",
    "rate2 = 20  # for the next 20 units\n",
    "rate3 = 10  # for the next 10 units\n",
    "rate4 = 5   # for any units beyond the first 40\n",
    "if units <= 10:\n",
    "    total_amount = units * rate1\n",
    "elif units <= 30:\n",
    "    total_amount = 10 * rate1 + (units - 10) * rate2\n",
    "elif units <= 40:\n",
    "    total_amount = 10 * rate1 + 20 * rate2 + (units - 30) * rate3\n",
    "else:\n",
    "    total_amount = 10 * rate1 + 20 * rate2 + 10 * rate3 + (units - 40) * rate4\n",
    "\n",
    "\n",
    "print(\"Total amount:\", total_amount, \"rs\")\n"
   ]
  },
  {
   "cell_type": "code",
   "execution_count": 4,
   "id": "584a9fdd-5215-49f5-aa4f-f4ef81e5bf0e",
   "metadata": {},
   "outputs": [
    {
     "name": "stdin",
     "output_type": "stream",
     "text": [
      "Enter a number:  6\n"
     ]
    },
    {
     "name": "stdout",
     "output_type": "stream",
     "text": [
      "The number is divisible by 6.\n"
     ]
    }
   ],
   "source": [
    "number = int(input(\"Enter a number: \"))\n",
    "\n",
    "if number % 2 == 0 and number % 3 == 0:\n",
    "    print(\"The number is divisible by 6.\")\n",
    "else:\n",
    "    print(\"The number is not divisible by 6.\")\n"
   ]
  },
  {
   "cell_type": "code",
   "execution_count": null,
   "id": "d1e25746-c945-4f83-a50c-6545399e8ad9",
   "metadata": {},
   "outputs": [],
   "source": []
  }
 ],
 "metadata": {
  "kernelspec": {
   "display_name": "Python 3 (ipykernel)",
   "language": "python",
   "name": "python3"
  },
  "language_info": {
   "codemirror_mode": {
    "name": "ipython",
    "version": 3
   },
   "file_extension": ".py",
   "mimetype": "text/x-python",
   "name": "python",
   "nbconvert_exporter": "python",
   "pygments_lexer": "ipython3",
   "version": "3.11.4"
  }
 },
 "nbformat": 4,
 "nbformat_minor": 5
}
